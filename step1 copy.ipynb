{
 "cells": [
  {
   "cell_type": "code",
   "execution_count": 1,
   "metadata": {},
   "outputs": [],
   "source": [
    "import pandas as pd\n",
    "import numpy as np\n",
    "import matplotlib.pyplot as plt\n",
    "import seaborn as sns\n",
    "from sklearn.model_selection import train_test_split, GridSearchCV\n",
    "from sklearn.preprocessing import StandardScaler, LabelEncoder\n",
    "from sklearn.linear_model import LinearRegression, Ridge\n",
    "from sklearn.tree import DecisionTreeRegressor\n",
    "from sklearn.ensemble import RandomForestRegressor\n",
    "from sklearn.metrics import mean_squared_error, r2_score, mean_absolute_error"
   ]
  },
  {
   "cell_type": "code",
   "execution_count": 2,
   "metadata": {},
   "outputs": [],
   "source": [
    "df = pd.read_csv('dataproject2025.csv')"
   ]
  },
  {
   "cell_type": "code",
   "execution_count": 3,
   "metadata": {},
   "outputs": [],
   "source": [
    "exclude_columns = [\n",
    "    'target',\n",
    "    'Predicted probabilities',   \n",
    "    'Unnamed: 0',  \n",
    "    'zip_code',\n",
    "    'Pct_afro_american']\n",
    "\n",
    "X = df.drop(columns=exclude_columns)\n",
    "y = df['Predicted probabilities']"
   ]
  },
  {
   "cell_type": "code",
   "execution_count": 4,
   "metadata": {},
   "outputs": [],
   "source": [
    "numerical_cols = X.select_dtypes(include=[np.number]).columns.tolist()\n",
    "categorical_cols = X.select_dtypes(include=['object']).columns.tolist()"
   ]
  },
  {
   "cell_type": "code",
   "execution_count": 5,
   "metadata": {},
   "outputs": [],
   "source": [
    "emp_length_mapping = {\n",
    "        '< 1 year': 0, '1 year': 1, '2 years': 2, '3 years': 3, '4 years': 4, \n",
    "        '5 years': 5, '6 years': 6, '7 years': 7, '8 years': 8, '9 years': 9, \n",
    "        '10+ years': 10\n",
    "    }\n",
    "\n",
    "X['emp_length'] = X['emp_length'].map(emp_length_mapping)"
   ]
  },
  {
   "cell_type": "code",
   "execution_count": 6,
   "metadata": {},
   "outputs": [],
   "source": [
    "emp_title_freq = X['emp_title'].value_counts().to_dict()\n",
    "X['emp_title'] = X['emp_title'].map(emp_title_freq)\n",
    "\n",
    "grade_mapping = {'A': 6, 'B': 5, 'C': 4, 'D': 3, 'E': 2, 'F': 1, 'G': 0}\n",
    "X['grade'] = X['grade'].map(grade_mapping)\n",
    "\n",
    "home_dummies = pd.get_dummies(X['home_ownership'], prefix='home')\n",
    "X = pd.concat([X, home_dummies], axis=1)\n",
    "X = X.drop('home_ownership', axis=1)\n",
    "\n",
    "purpose_dummies = pd.get_dummies(X['purpose'], prefix='purpose')\n",
    "X = pd.concat([X, purpose_dummies], axis=1)\n",
    "X = X.drop('purpose', axis=1)\n",
    "\n",
    "grades = ['A', 'B', 'C', 'D', 'E', 'F', 'G']\n",
    "subgrades = []\n",
    "for grade in grades:\n",
    "    for i in range(1, 6):\n",
    "        subgrades.append(f\"{grade}{i}\")\n",
    "subgrade_mapping = {sg: len(subgrades) - i - 1 for i, sg in enumerate(subgrades)}\n",
    "X['sub_grade'] = X['sub_grade'].map(subgrade_mapping)\n"
   ]
  },
  {
   "cell_type": "code",
   "execution_count": 7,
   "metadata": {},
   "outputs": [],
   "source": [
    "X_train, X_test, y_train, y_test = train_test_split(X, y, test_size=0.2, random_state=42)\n",
    "\n",
    "scaler = StandardScaler()\n",
    "X_train_scaled = scaler.fit_transform(X_train)\n",
    "X_test_scaled = scaler.transform(X_test)"
   ]
  },
  {
   "cell_type": "code",
   "execution_count": 8,
   "metadata": {},
   "outputs": [
    {
     "name": "stdout",
     "output_type": "stream",
     "text": [
      "R²: 0.9561\n",
      "MSE: 0.000617\n",
      "MAE: 0.017883\n"
     ]
    }
   ],
   "source": [
    "lr = LinearRegression()\n",
    "lr.fit(X_train_scaled, y_train)\n",
    "y_pred_lr = lr.predict(X_test_scaled)\n",
    "\n",
    "r2_lr = r2_score(y_test, y_pred_lr)\n",
    "mse_lr = mean_squared_error(y_test, y_pred_lr)\n",
    "mae_lr = mean_absolute_error(y_test, y_pred_lr)\n",
    "\n",
    "print(f\"R²: {r2_lr:.4f}\")\n",
    "print(f\"MSE: {mse_lr:.6f}\")\n",
    "print(f\"MAE: {mae_lr:.6f}\")"
   ]
  },
  {
   "cell_type": "code",
   "execution_count": 9,
   "metadata": {},
   "outputs": [
    {
     "name": "stdout",
     "output_type": "stream",
     "text": [
      "\n",
      "Top 10 variables importantes (coefficients):\n",
      "  home_MORTGAGE: -531947193.7678\n",
      "  home_RENT: -523098269.4153\n",
      "  home_OWN: -327326800.0985\n",
      "  purpose_debt_consolidation: -92306911.7943\n",
      "  purpose_credit_card: -76983743.4433\n",
      "  purpose_other: -44815951.3387\n",
      "  purpose_home_improvement: -44723117.6904\n",
      "  purpose_major_purchase: -26180368.0660\n",
      "  purpose_small_business: -20637390.2637\n",
      "  purpose_medical: -19544208.2536\n"
     ]
    }
   ],
   "source": [
    "feature_importance_lr = pd.DataFrame({\n",
    "    'Feature': X.columns,\n",
    "    'Coefficient': lr.coef_,\n",
    "    'Importance': np.abs(lr.coef_)\n",
    "}).sort_values('Importance', ascending=False)\n",
    "\n",
    "print(\"\\nTop 10 variables importantes (coefficients):\")\n",
    "for i, row in feature_importance_lr.head(10).iterrows():\n",
    "    print(f\"  {row['Feature']}: {row['Coefficient']:.4f}\")"
   ]
  },
  {
   "cell_type": "code",
   "execution_count": 10,
   "metadata": {},
   "outputs": [],
   "source": [
    "dt_params = {\n",
    "    'max_depth': [3, 5, 7, 10],\n",
    "    'min_samples_split': [20, 50, 100],\n",
    "    'min_samples_leaf': [10, 20, 50]\n",
    "}\n",
    "\n",
    "dt_grid = GridSearchCV(\n",
    "    DecisionTreeRegressor(random_state=42), \n",
    "    dt_params, \n",
    "    cv=5, \n",
    "    scoring='r2',\n",
    "    n_jobs=-1\n",
    ")"
   ]
  },
  {
   "cell_type": "code",
   "execution_count": 11,
   "metadata": {},
   "outputs": [
    {
     "name": "stdout",
     "output_type": "stream",
     "text": [
      "R²: 0.9251\n",
      "MSE: 0.001053\n",
      "MAE: 0.024190\n",
      "Meilleurs paramètres: {'max_depth': 10, 'min_samples_leaf': 20, 'min_samples_split': 20}\n",
      "Profondeur finale: 10\n"
     ]
    }
   ],
   "source": [
    "dt_grid.fit(X_train, y_train)\n",
    "\n",
    "best_dt = dt_grid.best_estimator_\n",
    "y_pred_dt = best_dt.predict(X_test)\n",
    "\n",
    "r2_dt = r2_score(y_test, y_pred_dt)\n",
    "mse_dt = mean_squared_error(y_test, y_pred_dt)\n",
    "mae_dt = mean_absolute_error(y_test, y_pred_dt)\n",
    "\n",
    "print(f\"R²: {r2_dt:.4f}\")\n",
    "print(f\"MSE: {mse_dt:.6f}\")\n",
    "print(f\"MAE: {mae_dt:.6f}\")\n",
    "print(f\"Meilleurs paramètres: {dt_grid.best_params_}\")\n",
    "print(f\"Profondeur finale: {best_dt.get_depth()}\")"
   ]
  },
  {
   "cell_type": "code",
   "execution_count": 12,
   "metadata": {},
   "outputs": [
    {
     "name": "stdout",
     "output_type": "stream",
     "text": [
      "\n",
      "Top 10 variables importantes (arbre):\n",
      "  Predictions: 0.6626\n",
      "  sub_grade: 0.2318\n",
      "  grade: 0.0226\n",
      "  avg_cur_bal: 0.0203\n",
      "  loan duration: 0.0203\n",
      "  dti: 0.0121\n",
      "  home_RENT: 0.0074\n",
      "  mths_since_recent_bc: 0.0074\n",
      "  fico_range_high: 0.0049\n",
      "  home_MORTGAGE: 0.0035\n"
     ]
    }
   ],
   "source": [
    "feature_importance_dt = pd.DataFrame({\n",
    "    'Feature': X.columns,\n",
    "    'Importance': best_dt.feature_importances_\n",
    "}).sort_values('Importance', ascending=False)\n",
    "\n",
    "print(\"\\nTop 10 variables importantes (arbre):\")\n",
    "for i, row in feature_importance_dt.head(10).iterrows():\n",
    "    print(f\"  {row['Feature']}: {row['Importance']:.4f}\")\n"
   ]
  }
 ],
 "metadata": {
  "kernelspec": {
   "display_name": "base",
   "language": "python",
   "name": "python3"
  },
  "language_info": {
   "codemirror_mode": {
    "name": "ipython",
    "version": 3
   },
   "file_extension": ".py",
   "mimetype": "text/x-python",
   "name": "python",
   "nbconvert_exporter": "python",
   "pygments_lexer": "ipython3",
   "version": "3.12.2"
  }
 },
 "nbformat": 4,
 "nbformat_minor": 2
}
