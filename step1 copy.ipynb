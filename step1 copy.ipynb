{
 "cells": [
  {
   "cell_type": "code",
   "execution_count": 1,
   "metadata": {},
   "outputs": [],
   "source": [
    "import pandas as pd\n",
    "import numpy as np\n",
    "import matplotlib.pyplot as plt\n",
    "import seaborn as sns\n",
    "from sklearn.model_selection import train_test_split, GridSearchCV\n",
    "from sklearn.preprocessing import StandardScaler, LabelEncoder\n",
    "from sklearn.linear_model import LinearRegression, Ridge\n",
    "from sklearn.tree import DecisionTreeRegressor\n",
    "from sklearn.ensemble import RandomForestRegressor\n",
    "from sklearn.metrics import mean_squared_error, r2_score, mean_absolute_error"
   ]
  },
  {
   "cell_type": "code",
   "execution_count": 2,
   "metadata": {},
   "outputs": [],
   "source": [
    "df = pd.read_csv('/Users/guenounraphael/Desktop/HEC/Algo_Fairness/dataproject2025.csv')"
   ]
  },
  {
   "cell_type": "markdown",
   "metadata": {},
   "source": [
    "## Encoding\n"
   ]
  },
  {
   "cell_type": "code",
   "execution_count": 33,
   "metadata": {},
   "outputs": [],
   "source": [
    "exclude_columns = [\n",
    "    'target',\n",
    "    'Predicted probabilities',\n",
    "    'Predictions',   \n",
    "    'Unnamed: 0',  \n",
    "    'zip_code',\n",
    "    'Pct_afro_american']\n",
    "\n",
    "X = df.drop(columns=exclude_columns)\n",
    "y = df['Predicted probabilities']"
   ]
  },
  {
   "cell_type": "code",
   "execution_count": 34,
   "metadata": {},
   "outputs": [],
   "source": [
    "numerical_cols = X.select_dtypes(include=[np.number]).columns.tolist()\n",
    "categorical_cols = X.select_dtypes(include=['object']).columns.tolist()"
   ]
  },
  {
   "cell_type": "code",
   "execution_count": 35,
   "metadata": {},
   "outputs": [],
   "source": [
    "emp_length_mapping = {\n",
    "        '< 1 year': 0, '1 year': 1, '2 years': 2, '3 years': 3, '4 years': 4, \n",
    "        '5 years': 5, '6 years': 6, '7 years': 7, '8 years': 8, '9 years': 9, \n",
    "        '10+ years': 10\n",
    "    }\n",
    "\n",
    "X['emp_length'] = X['emp_length'].map(emp_length_mapping)"
   ]
  },
  {
   "cell_type": "code",
   "execution_count": 36,
   "metadata": {},
   "outputs": [],
   "source": [
    "emp_title_freq = X['emp_title'].value_counts().to_dict()\n",
    "X['emp_title'] = X['emp_title'].map(emp_title_freq)\n",
    "\n",
    "grade_mapping = {'A': 6, 'B': 5, 'C': 4, 'D': 3, 'E': 2, 'F': 1, 'G': 0}\n",
    "X['grade'] = X['grade'].map(grade_mapping)\n",
    "\n",
    "home_dummies = pd.get_dummies(X['home_ownership'], prefix='home', drop_first=True)  \n",
    "X = pd.concat([X, home_dummies], axis=1)\n",
    "X = X.drop('home_ownership', axis=1)\n",
    "\n",
    "purpose_dummies = pd.get_dummies(X['purpose'], prefix='purpose', drop_first=True)  # drop_first=True !\n",
    "X = pd.concat([X, purpose_dummies], axis=1)\n",
    "X = X.drop('purpose', axis=1)\n",
    "\n",
    "grades = ['A', 'B', 'C', 'D', 'E', 'F', 'G']\n",
    "subgrades = []\n",
    "for grade in grades:\n",
    "    for i in range(1, 6):\n",
    "        subgrades.append(f\"{grade}{i}\")\n",
    "subgrade_mapping = {sg: len(subgrades) - i - 1 for i, sg in enumerate(subgrades)}\n",
    "X['sub_grade'] = X['sub_grade'].map(subgrade_mapping)\n"
   ]
  },
  {
   "cell_type": "code",
   "execution_count": 37,
   "metadata": {},
   "outputs": [],
   "source": [
    "\n",
    "X_train, X_test, y_train, y_test = train_test_split(X, y, test_size=0.2, random_state=42)\n",
    "\n",
    "scaler = StandardScaler()\n",
    "X_train_scaled = scaler.fit_transform(X_train)\n",
    "X_test_scaled = scaler.transform(X_test)"
   ]
  },
  {
   "cell_type": "markdown",
   "metadata": {},
   "source": [
    "## Linear Regression"
   ]
  },
  {
   "cell_type": "code",
   "execution_count": 38,
   "metadata": {},
   "outputs": [
    {
     "name": "stdout",
     "output_type": "stream",
     "text": [
      "R²: 0.9375\n",
      "MSE: 0.000878\n",
      "MAE: 0.021028\n"
     ]
    }
   ],
   "source": [
    "lr = LinearRegression()\n",
    "lr.fit(X_train_scaled, y_train)\n",
    "y_pred_lr = lr.predict(X_test_scaled)\n",
    "\n",
    "r2_lr = r2_score(y_test, y_pred_lr)\n",
    "mse_lr = mean_squared_error(y_test, y_pred_lr)\n",
    "mae_lr = mean_absolute_error(y_test, y_pred_lr)\n",
    "\n",
    "print(f\"R²: {r2_lr:.4f}\")\n",
    "print(f\"MSE: {mse_lr:.6f}\")\n",
    "print(f\"MAE: {mae_lr:.6f}\")"
   ]
  },
  {
   "cell_type": "code",
   "execution_count": 41,
   "metadata": {},
   "outputs": [
    {
     "name": "stdout",
     "output_type": "stream",
     "text": [
      "\n",
      "Top 10 variables importantes (coefficients):\n",
      "  sub_grade: -0.0662\n",
      "  loan duration: 0.0372\n",
      "  dti: 0.0217\n",
      "  home_RENT: 0.0162\n",
      "  fico_range_high: -0.0146\n",
      "  funded_amnt: 0.0140\n",
      "  mort_acc: -0.0112\n",
      "  purpose_debt_consolidation: 0.0096\n",
      "  mths_since_recent_bc: -0.0087\n",
      "  revol_bal: -0.0078\n",
      "  mo_sin_old_rev_tl_op: -0.0078\n",
      "  num_actv_bc_tl: 0.0077\n",
      "  mo_sin_rcnt_tl: -0.0075\n",
      "  grade: -0.0070\n",
      "  inq_last_6mths: 0.0066\n",
      "  purpose_small_business: 0.0064\n",
      "  purpose_credit_card: 0.0064\n",
      "  revol_util: -0.0061\n",
      "  purpose_home_improvement: 0.0061\n",
      "  open_acc: 0.0059\n",
      "  int_rate: -0.0058\n",
      "  num_bc_tl: -0.0057\n",
      "  bc_open_to_buy: -0.0055\n",
      "  emp_title: -0.0048\n",
      "  home_OWN: 0.0046\n",
      "  delinq_2yrs: 0.0045\n",
      "  num_il_tl: -0.0040\n",
      "  pub_rec: 0.0038\n",
      "  purpose_major_purchase: 0.0038\n",
      "  avg_cur_bal: -0.0036\n",
      "  bc_util: -0.0036\n",
      "  annual_inc: -0.0032\n",
      "  purpose_other: 0.0029\n",
      "  purpose_medical: 0.0029\n",
      "  purpose_wedding: -0.0020\n",
      "  pub_rec_bankruptcies: 0.0019\n",
      "  purpose_vacation: 0.0019\n",
      "  purpose_moving: 0.0016\n",
      "  mo_sin_rcnt_rev_tl_op: 0.0014\n",
      "  tax_liens: -0.0014\n",
      "  purpose_house: 0.0004\n",
      "  issue_d: -0.0004\n",
      "  num_rev_accts: -0.0001\n",
      "  emp_length: -0.0001\n",
      "  purpose_renewable_energy: -0.0000\n"
     ]
    }
   ],
   "source": [
    "feature_importance_lr = pd.DataFrame({\n",
    "    'Feature': X.columns,\n",
    "    'Coefficient': lr.coef_,\n",
    "    'Importance': np.abs(lr.coef_)\n",
    "}).sort_values('Importance', ascending=False)\n",
    "\n",
    "print(\"\\nTop 10 variables importantes (coefficients):\")\n",
    "for i, row in feature_importance_lr.iterrows():\n",
    "    print(f\"  {row['Feature']}: {row['Coefficient']:.4f}\")"
   ]
  },
  {
   "cell_type": "markdown",
   "metadata": {},
   "source": [
    "## Decision Tree Regressor"
   ]
  },
  {
   "cell_type": "code",
   "execution_count": 21,
   "metadata": {},
   "outputs": [],
   "source": [
    "dt_params = {\n",
    "    'max_depth': [3, 5, 7, 10],\n",
    "    'min_samples_split': [20, 50, 100],\n",
    "    'min_samples_leaf': [10, 20, 50]\n",
    "}\n",
    "\n",
    "dt_grid = GridSearchCV(\n",
    "    DecisionTreeRegressor(random_state=42), \n",
    "    dt_params, \n",
    "    cv=5, \n",
    "    scoring='r2',\n",
    "    n_jobs=-1\n",
    ")"
   ]
  },
  {
   "cell_type": "code",
   "execution_count": 22,
   "metadata": {},
   "outputs": [
    {
     "name": "stderr",
     "output_type": "stream",
     "text": [
      "python(39147) MallocStackLogging: can't turn off malloc stack logging because it was not enabled.\n",
      "python(39148) MallocStackLogging: can't turn off malloc stack logging because it was not enabled.\n",
      "python(39149) MallocStackLogging: can't turn off malloc stack logging because it was not enabled.\n",
      "python(39150) MallocStackLogging: can't turn off malloc stack logging because it was not enabled.\n",
      "python(39151) MallocStackLogging: can't turn off malloc stack logging because it was not enabled.\n",
      "python(39152) MallocStackLogging: can't turn off malloc stack logging because it was not enabled.\n",
      "python(39153) MallocStackLogging: can't turn off malloc stack logging because it was not enabled.\n",
      "python(39154) MallocStackLogging: can't turn off malloc stack logging because it was not enabled.\n",
      "python(39155) MallocStackLogging: can't turn off malloc stack logging because it was not enabled.\n",
      "python(39156) MallocStackLogging: can't turn off malloc stack logging because it was not enabled.\n"
     ]
    },
    {
     "name": "stdout",
     "output_type": "stream",
     "text": [
      "R²: 0.9020\n",
      "MSE: 0.001377\n",
      "MAE: 0.026781\n",
      "Meilleurs paramètres: {'max_depth': 10, 'min_samples_leaf': 20, 'min_samples_split': 20}\n",
      "Profondeur finale: 10\n"
     ]
    }
   ],
   "source": [
    "dt_grid.fit(X_train, y_train)\n",
    "\n",
    "best_dt = dt_grid.best_estimator_\n",
    "y_pred_dt = best_dt.predict(X_test)\n",
    "\n",
    "r2_dt = r2_score(y_test, y_pred_dt)\n",
    "mse_dt = mean_squared_error(y_test, y_pred_dt)\n",
    "mae_dt = mean_absolute_error(y_test, y_pred_dt)\n",
    "\n",
    "print(f\"R²: {r2_dt:.4f}\")\n",
    "print(f\"MSE: {mse_dt:.6f}\")\n",
    "print(f\"MAE: {mae_dt:.6f}\")\n",
    "print(f\"Meilleurs paramètres: {dt_grid.best_params_}\")\n",
    "print(f\"Profondeur finale: {best_dt.get_depth()}\")"
   ]
  },
  {
   "cell_type": "code",
   "execution_count": 23,
   "metadata": {},
   "outputs": [
    {
     "name": "stdout",
     "output_type": "stream",
     "text": [
      "\n",
      "Top 10 variables importantes (arbre):\n",
      "  sub_grade: 0.7558\n",
      "  loan duration: 0.1184\n",
      "  avg_cur_bal: 0.0574\n",
      "  dti: 0.0218\n",
      "  mths_since_recent_bc: 0.0139\n",
      "  home_RENT: 0.0111\n",
      "  fico_range_high: 0.0092\n",
      "  mort_acc: 0.0046\n",
      "  mo_sin_rcnt_tl: 0.0027\n",
      "  grade: 0.0013\n"
     ]
    }
   ],
   "source": [
    "feature_importance_dt = pd.DataFrame({\n",
    "    'Feature': X.columns,\n",
    "    'Importance': best_dt.feature_importances_\n",
    "}).sort_values('Importance', ascending=False)\n",
    "\n",
    "print(\"\\nTop 10 variables importantes (arbre):\")\n",
    "for i, row in feature_importance_dt.head(10).iterrows():\n",
    "    print(f\"  {row['Feature']}: {row['Importance']:.4f}\")\n"
   ]
  }
 ],
 "metadata": {
  "kernelspec": {
   "display_name": "base",
   "language": "python",
   "name": "python3"
  },
  "language_info": {
   "codemirror_mode": {
    "name": "ipython",
    "version": 3
   },
   "file_extension": ".py",
   "mimetype": "text/x-python",
   "name": "python",
   "nbconvert_exporter": "python",
   "pygments_lexer": "ipython3",
   "version": "3.12.2"
  }
 },
 "nbformat": 4,
 "nbformat_minor": 2
}
