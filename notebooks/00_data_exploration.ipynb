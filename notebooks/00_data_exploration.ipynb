{
 "cells": [
  {
   "cell_type": "code",
   "execution_count": null,
   "metadata": {},
   "outputs": [],
   "source": [
    "import pandas as pd \n",
    "import numpy as np\n",
    "import matplotlib.pyplot as plt\n"
   ]
  },
  {
   "cell_type": "markdown",
   "metadata": {},
   "source": [
    "## EDA"
   ]
  },
  {
   "cell_type": "code",
   "execution_count": null,
   "metadata": {},
   "outputs": [],
   "source": [
    "df = pd.read_csv('dataproject2025.csv')\n",
    "df.head()"
   ]
  },
  {
   "cell_type": "code",
   "execution_count": null,
   "metadata": {},
   "outputs": [],
   "source": [
    "#df.describe()"
   ]
  },
  {
   "cell_type": "code",
   "execution_count": null,
   "metadata": {},
   "outputs": [],
   "source": [
    "df.info()"
   ]
  },
  {
   "cell_type": "code",
   "execution_count": null,
   "metadata": {},
   "outputs": [],
   "source": [
    "target_counts = df['Predictions'].value_counts()\n",
    "target_pct = df['Predictions'].value_counts(normalize=True) * 100\n",
    "target_pct"
   ]
  },
  {
   "cell_type": "code",
   "execution_count": null,
   "metadata": {},
   "outputs": [],
   "source": [
    "fig, (ax1, ax2) = plt.subplots(1, 2, figsize=(15, 6))\n",
    "\n",
    "# Graphique en barres\n",
    "target_counts.plot(kind='bar', ax=ax1, color=['lightgreen', 'salmon'])\n",
    "ax1.set_title('Distribution de la Variable Cible')\n",
    "ax1.set_xlabel('Target (0: Pas de défaut, 1: Défaut)')\n",
    "ax1.set_ylabel('Nombre de cas')\n",
    "ax1.tick_params(axis='x', rotation=0)\n",
    "\n",
    "# Graphique en camembert\n",
    "ax2.pie(target_counts.values, labels=['Pas de défaut', 'Défaut'], \n",
    "        autopct='%1.1f%%', colors=['lightgreen', 'salmon'])\n",
    "ax2.set_title('Proportion de Défauts')\n",
    "\n",
    "plt.tight_layout()\n",
    "plt.show()"
   ]
  },
  {
   "cell_type": "code",
   "execution_count": null,
   "metadata": {},
   "outputs": [],
   "source": [
    "#df.isna().sum()\n",
    "# NO missing values"
   ]
  },
  {
   "cell_type": "code",
   "execution_count": null,
   "metadata": {},
   "outputs": [],
   "source": [
    "target_col = 'target'\n",
    "numerical_columns = df.select_dtypes(include = [np.number]).columns.to_list()\n",
    "numerical_columns.remove('target')\n"
   ]
  },
  {
   "cell_type": "code",
   "execution_count": null,
   "metadata": {},
   "outputs": [],
   "source": [
    "categorical_columns = df.select_dtypes(object).columns.to_list()\n",
    "categorical_columns,"
   ]
  },
  {
   "cell_type": "code",
   "execution_count": null,
   "metadata": {},
   "outputs": [],
   "source": [
    "print(f\"Variables numériques ({len(numerical_columns)}): {numerical_columns}\")\n",
    "print(f\"Variables catégorielles ({len(categorical_columns)}): {categorical_columns}\")"
   ]
  },
  {
   "cell_type": "code",
   "execution_count": null,
   "metadata": {},
   "outputs": [],
   "source": [
    "n_cols = 4\n",
    "n_rows = (len(numerical_columns) + n_cols - 1) // n_cols\n",
    "\n",
    "fig, axes = plt.subplots(n_rows, n_cols, figsize=(20, 5*n_rows))\n",
    "axes = axes.flatten() if n_rows > 1 else [axes]\n",
    "\n",
    "for i, col in enumerate(numerical_columns):\n",
    "    if i < len(axes):\n",
    "        df[col].hist(bins=30, ax=axes[i], alpha=0.7)\n",
    "        axes[i].set_title(f'Distribution de {col}')\n",
    "        axes[i].set_xlabel(col)\n",
    "        axes[i].set_ylabel('Fréquence')\n",
    "\n",
    "# Masquer les axes non utilisés\n",
    "for i in range(len(numerical_columns), len(axes)):\n",
    "    axes[i].set_visible(False)\n",
    "\n",
    "plt.tight_layout()\n",
    "plt.show()"
   ]
  },
  {
   "cell_type": "code",
   "execution_count": null,
   "metadata": {},
   "outputs": [],
   "source": [
    "correlation_matrix = df[numerical_columns + ['target']].corr()\n",
    "print(\"Corrélations avec la variable cible:\")\n",
    "target_corr = correlation_matrix['target'].sort_values(ascending=False)\n",
    "print(target_corr[target_corr.index != 'target'])"
   ]
  },
  {
   "cell_type": "code",
   "execution_count": null,
   "metadata": {},
   "outputs": [],
   "source": [
    "print(\"Moyennes des variables numériques par classe:\")\n",
    "comparison = df.groupby('target')[numerical_columns].mean()\n",
    "print(comparison.T)"
   ]
  },
  {
   "cell_type": "code",
   "execution_count": null,
   "metadata": {},
   "outputs": [],
   "source": [
    "import seaborn as sns\n",
    "top_corr_vars = target_corr[target_corr.index != 'target'].abs().nlargest(8).index\n",
    "\n",
    "fig, axes = plt.subplots(2, 4, figsize=(20, 10))\n",
    "axes = axes.flatten()\n",
    "\n",
    "for i, col in enumerate(top_corr_vars):\n",
    "    sns.boxplot(data=df, x='target', y=col, ax=axes[i])\n",
    "    axes[i].set_title(f'{col} par Target')\n",
    "    axes[i].set_xlabel('Target (0: Pas défaut, 1: Défaut)')\n",
    "\n",
    "plt.tight_layout()\n",
    "plt.show()"
   ]
  },
  {
   "cell_type": "code",
   "execution_count": null,
   "metadata": {},
   "outputs": [],
   "source": [
    "#df = df.drop(columns = ['Unnamed: 0','Predicted probabilities', 'Predictions', 'Pct_afro_american', 'zip_code'] )"
   ]
  },
  {
   "cell_type": "code",
   "execution_count": null,
   "metadata": {},
   "outputs": [],
   "source": []
  }
 ],
 "metadata": {
  "kernelspec": {
   "display_name": "Python 3",
   "language": "python",
   "name": "python3"
  },
  "language_info": {
   "codemirror_mode": {
    "name": "ipython",
    "version": 3
   },
   "file_extension": ".py",
   "mimetype": "text/x-python",
   "name": "python",
   "nbconvert_exporter": "python",
   "pygments_lexer": "ipython3",
   "version": "3.12.2"
  }
 },
 "nbformat": 4,
 "nbformat_minor": 2
}
